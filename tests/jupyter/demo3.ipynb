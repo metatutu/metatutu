{
 "cells": [
  {
   "cell_type": "markdown",
   "metadata": {},
   "source": [
    "# METATUTU Demo Set #3\n",
    "\n",
    "This demo set is including the tools for data analysis."
   ]
  },
  {
   "cell_type": "markdown",
   "metadata": {},
   "source": [
    "## 👉 Search Path\n",
    "\n",
    "If you want to invoke the METATUTU library with source code, please run below code **FIRST** to setup the correct search path.\n",
    "Otherwise, simply skip them.  It's strongly suggest to not use source code directly.  Instead, as library developer, if you want to run demo with latest source code, you may make an installation with code with given build tool."
   ]
  },
  {
   "cell_type": "code",
   "execution_count": 1,
   "metadata": {},
   "outputs": [],
   "source": [
    "#import sys\n",
    "#import os\n",
    "#METATUTU_PATH = os.path.abspath(\"../../lib\")\n",
    "#if METATUTU_PATH not in sys.path: sys.path.insert(0, METATUTU_PATH)"
   ]
  },
  {
   "cell_type": "markdown",
   "metadata": {},
   "source": [
    "## 📘 metatutu.da.figure"
   ]
  },
  {
   "cell_type": "markdown",
   "metadata": {},
   "source": [
    "### 📄 Simple figure"
   ]
  },
  {
   "cell_type": "code",
   "execution_count": 2,
   "metadata": {},
   "outputs": [
    {
     "data": {
      "text/html": [
       "<div><p>My Task: 50000 of 50000/100.0% (elapsed: 5.1 seconds)</p></div>"
      ],
      "text/plain": [
       "<IPython.core.display.HTML object>"
      ]
     },
     "metadata": {},
     "output_type": "display_data"
    }
   ],
   "source": [
    "import math\n",
    "from metatutu.da.figure import *\n",
    "from metatutu.fsds import *\n",
    "\n",
    "class SimpleFigure(Figure):\n",
    "    def on_paint(self):\n",
    "        #prepare data\n",
    "        x_values = []\n",
    "        y1_values = []\n",
    "        y2_values = []\n",
    "        for x in range(0, 360):\n",
    "            x_values.append(x)\n",
    "            y1_values.append(math.sin(self.data_binding[0] * x * math.pi / 180))\n",
    "            y2_values.append(math.cos(self.data_binding[0] * x * math.pi / 180))\n",
    "\n",
    "        #paint chart\n",
    "        ax = self.add_chart(\"Simple Chart\")\n",
    "        ax.plot(x_values, y1_values)\n",
    "        ax.plot(x_values, y2_values)\n",
    "        \n",
    "def test_figure_simple():\n",
    "    fsds = FileSystemDataStore(r\"f:\\data\\test_project\")\n",
    "    \n",
    "    f = SimpleFigure()\n",
    "    f.figsize = (6, 4)\n",
    "    f.filepath = fsds.get_path(\"figure1.png\")\n",
    "    f.data_binding = (2, )\n",
    "    f.paint()\n",
    "    \n",
    "test_figure_simple()"
   ]
  },
  {
   "cell_type": "markdown",
   "metadata": {},
   "source": [
    "### 📄 Padding"
   ]
  },
  {
   "cell_type": "code",
   "execution_count": 3,
   "metadata": {},
   "outputs": [
    {
     "data": {
      "text/html": [
       "<div><p>My Task: 10000 (elapsed: 1.0 seconds)</p></div>"
      ],
      "text/plain": [
       "<IPython.core.display.HTML object>"
      ]
     },
     "metadata": {},
     "output_type": "display_data"
    }
   ],
   "source": [
    "import numpy as np\n",
    "from metatutu.da.figure import *\n",
    "from metatutu.fsds import *\n",
    "\n",
    "class PaddingFigure(Figure):\n",
    "    def on_paint(self):\n",
    "        ax = self.add_chart(\"Full Filled\", (0, 0), padding=(0.0, 0.0, 0.0, 0.0))\n",
    "        ax.plot(np.cumsum(np.random.randn(1000, 1)))\n",
    "        \n",
    "        ax = self.add_chart(\"50% in Height\", (0, 1), padding=(0.0, 0.0, 0.0, 0.5))\n",
    "        ax.plot(np.cumsum(np.random.randn(1000, 1)))\n",
    "\n",
    "        ax = self.add_chart(\"50% in Width\", (1, 0), padding=(0.0, 0.0, 0.5, 0.0))\n",
    "        ax.plot(np.cumsum(np.random.randn(1000, 1)))\n",
    "        \n",
    "        ax = self.add_chart(\"50% in Width and Height\", (1, 1), padding=(0.25, 0.25, 0.25, 0.25))\n",
    "        ax.plot(np.cumsum(np.random.randn(1000, 1)))\n",
    "\n",
    "        \n",
    "def test_figure_padding():\n",
    "    fsds = FileSystemDataStore(r\"f:\\data\\test_project\")\n",
    "    \n",
    "    f = PaddingFigure()\n",
    "    f.figsize = (10, 8)\n",
    "    f.layout = (2, 2)\n",
    "    f.filepath = fsds.get_path(\"figure_padding.png\")\n",
    "    f.paint()\n",
    "    \n",
    "test_figure_padding()"
   ]
  }
 ],
 "metadata": {
  "kernelspec": {
   "display_name": "Python 3.9.7 ('base')",
   "language": "python",
   "name": "python3"
  },
  "language_info": {
   "codemirror_mode": {
    "name": "ipython",
    "version": 3
   },
   "file_extension": ".py",
   "mimetype": "text/x-python",
   "name": "python",
   "nbconvert_exporter": "python",
   "pygments_lexer": "ipython3",
   "version": "3.9.7"
  },
  "orig_nbformat": 4,
  "vscode": {
   "interpreter": {
    "hash": "b09ec625f77bf4fd762565a912b97636504ad6ec901eb2d0f4cf5a7de23e1ee5"
   }
  }
 },
 "nbformat": 4,
 "nbformat_minor": 2
}
