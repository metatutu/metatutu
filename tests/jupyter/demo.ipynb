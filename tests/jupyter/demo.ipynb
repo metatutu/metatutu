{
 "cells": [
  {
   "cell_type": "markdown",
   "metadata": {},
   "source": [
    "# METATUTU Demo Set #1\n",
    "\n",
    "This demo set is including the general tools."
   ]
  },
  {
   "cell_type": "markdown",
   "metadata": {},
   "source": [
    "## 👉 Search Path\n",
    "\n",
    "If you want to invoke the METATUTU library with source code, please run below code **FIRST** to setup the correct search path.\n",
    "Otherwise, simply skip them.  It's strongly suggest to not use source code directly.  Instead, as library developer, if you want to run demo with latest source code, you may make an installation with code with given build tool."
   ]
  },
  {
   "cell_type": "code",
   "execution_count": 1,
   "metadata": {},
   "outputs": [],
   "source": [
    "#import sys\n",
    "#import os\n",
    "#METATUTU_PATH = os.path.abspath(\"../../lib\")\n",
    "#if METATUTU_PATH not in sys.path: sys.path.insert(0, METATUTU_PATH)"
   ]
  },
  {
   "cell_type": "markdown",
   "metadata": {},
   "source": [
    "## 📘 metatutu.debugging"
   ]
  },
  {
   "cell_type": "markdown",
   "metadata": {},
   "source": [
    "### 📄 Clocker"
   ]
  },
  {
   "cell_type": "code",
   "execution_count": 1,
   "metadata": {},
   "outputs": [
    {
     "name": "stdout",
     "output_type": "stream",
     "text": [
      "p1: 1.2 seconds\n",
      "p2: 0.5 seconds\n",
      "(#1): 0.3 seconds\n"
     ]
    }
   ],
   "source": [
    "import sys\n",
    "import time\n",
    "from metatutu.debugging import Clocker\n",
    "\n",
    "#test 1\n",
    "clocker = Clocker()\n",
    "time.sleep(1.2)\n",
    "clocker.record(\"p1\")\n",
    "\n",
    "time.sleep(0.5)\n",
    "clocker.record(\"p2\")\n",
    "\n",
    "print(clocker.results_text())\n",
    "\n",
    "#test 2\n",
    "with clocker:\n",
    "\ttime.sleep(0.3)\n",
    "print(clocker.results_text())"
   ]
  },
  {
   "cell_type": "markdown",
   "metadata": {},
   "source": [
    "## 📘 metatutu.fsds"
   ]
  },
  {
   "cell_type": "markdown",
   "metadata": {},
   "source": [
    "### 📄 Project workspace"
   ]
  },
  {
   "cell_type": "code",
   "execution_count": 6,
   "metadata": {},
   "outputs": [
    {
     "name": "stdout",
     "output_type": "stream",
     "text": [
      "f:\\data\\test_project\\common.csv\n",
      "f:\\data\\test_project\\release\\version.txt\n",
      "f:\\data\\test_project\\2022-06-20\\source.csv\n",
      "f:\\data\\test_project\\2022-03-11\\source.csv\n",
      "f:\\data\\test_project\\2021-12-31\\source.csv\n"
     ]
    }
   ],
   "source": [
    "import datetime\n",
    "from metatutu.fsds import *\n",
    "\n",
    "def test_fsds_project_workspace():\n",
    "\tfsds = FileSystemDataStore(r\"f:\\data\\test_project\")\n",
    "\n",
    "\tprint(fsds.get_path(\"common.csv\"))\n",
    "\tprint(fsds.get_path(r\"release\\version.txt\"))\n",
    "\tprint(fsds.get_dated_path(\"source.csv\"))\n",
    "\tprint(fsds.get_dated_path(\"source.csv\", \"2022-03-11\"))\n",
    "\tprint(fsds.get_dated_path(\"source.csv\", datetime.datetime(2021, 12, 31)))\n",
    "\n",
    "test_fsds_project_workspace()"
   ]
  },
  {
   "cell_type": "markdown",
   "metadata": {},
   "source": [
    "### 📄 List files"
   ]
  },
  {
   "cell_type": "code",
   "execution_count": 1,
   "metadata": {},
   "outputs": [
    {
     "name": "stdout",
     "output_type": "stream",
     "text": [
      "f:\\data\\test_project\n",
      "['f:\\\\data\\\\test_project\\\\1.png', 'f:\\\\data\\\\test_project\\\\2.png', 'f:\\\\data\\\\test_project\\\\3.png', 'f:\\\\data\\\\test_project\\\\4.png', 'f:\\\\data\\\\test_project\\\\5.png', 'f:\\\\data\\\\test_project\\\\figure1.png', 'f:\\\\data\\\\test_project\\\\figure2.png', 'f:\\\\data\\\\test_project\\\\figure_no_show.png', 'f:\\\\data\\\\test_project\\\\figure_padding.png', 'f:\\\\data\\\\test_project\\\\IMG_20211102_083243.jpg', 'f:\\\\data\\\\test_project\\\\IMG_20211112_092422.jpg', 'f:\\\\data\\\\test_project\\\\IMG_20211112_092446.jpg', 'f:\\\\data\\\\test_project\\\\IMG_20211112_154943.jpg', 'f:\\\\data\\\\test_project\\\\stitched-x.png', 'f:\\\\data\\\\test_project\\\\stitched-y.png', 'f:\\\\data\\\\test_project\\\\test.gif', 'f:\\\\data\\\\test_project\\\\test2.gif', 'f:\\\\data\\\\test_project\\\\watermark.jpg', 'f:\\\\data\\\\test_project\\\\watermark.png']\n",
      "['f:\\\\data\\\\test_project\\\\IMG_20211102_083243.jpg', 'f:\\\\data\\\\test_project\\\\IMG_20211112_092422.jpg', 'f:\\\\data\\\\test_project\\\\IMG_20211112_092446.jpg', 'f:\\\\data\\\\test_project\\\\IMG_20211112_154943.jpg', 'f:\\\\data\\\\test_project\\\\watermark.jpg']\n"
     ]
    }
   ],
   "source": [
    "from metatutu.fsds import *\n",
    "\n",
    "def test_fsds_list_files():\n",
    "    fsds = FileSystemDataStore(r\"f:\\data\\test_project\")\n",
    "\n",
    "    folderpath = fsds.get_parent_path(\"any\")  #root path\n",
    "    print(folderpath)\n",
    "    print(fsds.list_files(folderpath))\n",
    "    print(fsds.list_files(folderpath, filters=[\".jpg\"]))\n",
    "    \n",
    "test_fsds_list_files()"
   ]
  },
  {
   "cell_type": "markdown",
   "metadata": {},
   "source": [
    "### 📄 Text file I/O & Temp file/folder"
   ]
  },
  {
   "cell_type": "code",
   "execution_count": 6,
   "metadata": {},
   "outputs": [
    {
     "name": "stdout",
     "output_type": "stream",
     "text": [
      "Hello World!\n",
      "How are you?\n"
     ]
    }
   ],
   "source": [
    "import datetime\n",
    "import os\n",
    "import time\n",
    "from metatutu.fsds import *\n",
    "\n",
    "def test_fsds_text_file():\n",
    "\tfsds = FileSystemDataStore(r\"f:\\data\\test_project\")\n",
    "\n",
    "\ttmp = fsds.create_temp_file()\n",
    "\tfilepath = tmp.path\n",
    "\tfsds.save_file_contents(filepath, \"Hello World!\")\n",
    "\tcontents = fsds.load_file_contents(filepath)\n",
    "\tif contents:\n",
    "\t\tprint(contents)\n",
    "\telse:\n",
    "\t\tprint(\"Failed!\")\n",
    "\n",
    "\ttmp2 = fsds.create_temp_folder()\n",
    "\tfilepath = os.path.join(tmp2.path, \"greetings.txt\")\n",
    "\tfsds.save_file_contents(filepath, \"How are you?\")\n",
    "\tcontents = fsds.load_file_contents(filepath)\n",
    "\tif contents:\n",
    "\t\tprint(contents)\n",
    "\telse:\n",
    "\t\tprint(\"Failed!\")\n",
    "\n",
    "\ttime.sleep(10)  #give chance to check file system before temp file/folder deleted\n",
    "\n",
    "test_fsds_text_file()"
   ]
  },
  {
   "cell_type": "markdown",
   "metadata": {},
   "source": [
    "## 📘 metatutu.images"
   ]
  },
  {
   "cell_type": "markdown",
   "metadata": {},
   "source": [
    "### 📄 Stitch images"
   ]
  },
  {
   "cell_type": "code",
   "execution_count": 9,
   "metadata": {},
   "outputs": [
    {
     "name": "stdout",
     "output_type": "stream",
     "text": [
      "f:\\data\\test_project\\stitched-y.png\n",
      "f:\\data\\test_project\\stitched-x.png\n"
     ]
    }
   ],
   "source": [
    "from PIL import Image\n",
    "from metatutu.fsds import *\n",
    "from metatutu.images import *\n",
    "\n",
    "def test_images_stitch_images():\n",
    "\tfsds = FileSystemDataStore(r\"f:\\data\\test_project\")\n",
    "\n",
    "\tfilepaths = []\n",
    "\tfor i in range(0, 5):\n",
    "\t\tfilepath = fsds.get_path(\"{}.png\".format(i + 1))\n",
    "\t\tfilepaths.append(filepath)\n",
    "\t\timage = Image.new(\"RGBA\", (640, 480), (i * 30, i * 30, i * 30, 255))\n",
    "\t\timage.save(filepath)\n",
    "\n",
    "\timages = Images()\n",
    "\timages.append_files(filepaths)\n",
    "\n",
    "\tfilepath = fsds.get_path(\"stitched-y.png\")\n",
    "\timages.stitch(True).save(filepath)\n",
    "\tprint(filepath)\n",
    "\n",
    "\tfilepath = fsds.get_path(\"stitched-x.png\")\n",
    "\timages.stitch(False).save(filepath)\n",
    "\tprint(filepath)\n",
    "    \n",
    "test_images_stitch_images()"
   ]
  },
  {
   "cell_type": "markdown",
   "metadata": {},
   "source": [
    "### 📄 Create GIF"
   ]
  },
  {
   "cell_type": "code",
   "execution_count": null,
   "metadata": {},
   "outputs": [],
   "source": [
    "from metatutu.fsds import *\n",
    "from metatutu.images import *\n",
    "\n",
    "def test_images_create_gif():\n",
    "\tfsds = FileSystemDataStore(r\"f:\\data\\test_project\")\n",
    "\n",
    "\tfilepaths = []\n",
    "\tfor i in range(0, 5):\n",
    "\t\tfilepaths.append(fsds.get_path(\"{}.png\".format(i + 1)))\n",
    "\n",
    "\timages = Images()\n",
    "\timages.append_files(filepaths)\n",
    "\n",
    "\tfilepath = fsds.get_path(\"test.gif\")\n",
    "\timages.create_gif(filepath, 0.5)\n",
    "\tprint(filepath)\n",
    "    \n",
    "test_images_create_gif()"
   ]
  }
 ],
 "metadata": {
  "kernelspec": {
   "display_name": "Python 3.9.7 ('base')",
   "language": "python",
   "name": "python3"
  },
  "language_info": {
   "codemirror_mode": {
    "name": "ipython",
    "version": 3
   },
   "file_extension": ".py",
   "mimetype": "text/x-python",
   "name": "python",
   "nbconvert_exporter": "python",
   "pygments_lexer": "ipython3",
   "version": "3.9.7"
  },
  "orig_nbformat": 4,
  "vscode": {
   "interpreter": {
    "hash": "b09ec625f77bf4fd762565a912b97636504ad6ec901eb2d0f4cf5a7de23e1ee5"
   }
  }
 },
 "nbformat": 4,
 "nbformat_minor": 2
}
