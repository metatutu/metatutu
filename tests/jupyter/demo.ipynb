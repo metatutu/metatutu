{
 "cells": [
  {
   "cell_type": "markdown",
   "metadata": {},
   "source": [
    "# METATUTU Demo Set #1"
   ]
  },
  {
   "cell_type": "markdown",
   "metadata": {},
   "source": [
    "## 👉 Search Path\n",
    "\n",
    "As METATUTU library developers, if you want to run the demo with source code, please run this **FIRST** to setup the correct search path.\n",
    "\n",
    "As METATUTU library users, typically you would need to run the demo with the METATUTU library installed on your Python environment with `pip install metatutu`.  If so, please skip the step or even remove the code in below cell."
   ]
  },
  {
   "cell_type": "code",
   "execution_count": 3,
   "metadata": {},
   "outputs": [],
   "source": [
    "import sys\n",
    "import os\n",
    "METATUTU_PATH = os.path.abspath(\"../../lib\")\n",
    "if METATUTU_PATH not in sys.path: sys.path.insert(0, METATUTU_PATH)"
   ]
  },
  {
   "cell_type": "markdown",
   "metadata": {},
   "source": [
    "## 📘 metatutu.debugging"
   ]
  },
  {
   "cell_type": "markdown",
   "metadata": {},
   "source": [
    "### 📄 Clocker"
   ]
  },
  {
   "cell_type": "code",
   "execution_count": 4,
   "metadata": {},
   "outputs": [
    {
     "name": "stdout",
     "output_type": "stream",
     "text": [
      "Phase 1: 1.2 seconds\n",
      "Phase 2: 0.5 seconds\n",
      "(#1): 0.3 seconds\n"
     ]
    }
   ],
   "source": [
    "import sys\n",
    "import time\n",
    "from metatutu.debugging import Clocker\n",
    "\n",
    "#test 1\n",
    "clocker = Clocker()\n",
    "time.sleep(1.2)\n",
    "clocker.record(\"p1\")\n",
    "\n",
    "time.sleep(0.5)\n",
    "clocker.record(\"p2\")\n",
    "\n",
    "print(clocker.results_text())\n",
    "\n",
    "#test 2\n",
    "with clocker:\n",
    "\ttime.sleep(0.3)\n",
    "print(clocker.results_text())"
   ]
  }
 ],
 "metadata": {
  "kernelspec": {
   "display_name": "Python 3.9.7 ('base')",
   "language": "python",
   "name": "python3"
  },
  "language_info": {
   "codemirror_mode": {
    "name": "ipython",
    "version": 3
   },
   "file_extension": ".py",
   "mimetype": "text/x-python",
   "name": "python",
   "nbconvert_exporter": "python",
   "pygments_lexer": "ipython3",
   "version": "3.9.7"
  },
  "orig_nbformat": 4,
  "vscode": {
   "interpreter": {
    "hash": "b09ec625f77bf4fd762565a912b97636504ad6ec901eb2d0f4cf5a7de23e1ee5"
   }
  }
 },
 "nbformat": 4,
 "nbformat_minor": 2
}
