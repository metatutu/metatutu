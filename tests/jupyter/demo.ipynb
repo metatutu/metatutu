{
 "cells": [
  {
   "cell_type": "markdown",
   "metadata": {},
   "source": [
    "# METATUTU Demo Set #1\n",
    "\n",
    "This demo set is including the general tools."
   ]
  },
  {
   "cell_type": "markdown",
   "metadata": {},
   "source": [
    "## 👉 Search Path\n",
    "\n",
    "If you want to invoke the METATUTU library with source code, please run below code **FIRST** to setup the correct search path.\n",
    "Otherwise, simply skip them.  It's strongly suggest to not use source code directly.  Instead, as library developer, if you want to run demo with latest source code, you may make an installation with code with given build tool."
   ]
  },
  {
   "cell_type": "code",
   "execution_count": null,
   "metadata": {},
   "outputs": [],
   "source": [
    "# import sys\n",
    "# import os\n",
    "# METATUTU_PATH = os.path.abspath(\"../../lib\")\n",
    "# if METATUTU_PATH not in sys.path: sys.path.insert(0, METATUTU_PATH)"
   ]
  },
  {
   "cell_type": "markdown",
   "metadata": {},
   "source": [
    "## 📘 metatutu.debugging"
   ]
  },
  {
   "cell_type": "markdown",
   "metadata": {},
   "source": [
    "### 📄 Clocker"
   ]
  },
  {
   "cell_type": "code",
   "execution_count": null,
   "metadata": {},
   "outputs": [],
   "source": [
    "import sys\n",
    "import time\n",
    "from metatutu.debugging import Clocker\n",
    "\n",
    "# test 1\n",
    "clocker = Clocker()\n",
    "time.sleep(1.2)\n",
    "clocker.record(\"p1\")\n",
    "\n",
    "time.sleep(0.5)\n",
    "clocker.record(\"p2\")\n",
    "\n",
    "print(clocker.results_text())\n",
    "\n",
    "# test 2\n",
    "with clocker:\n",
    "\ttime.sleep(0.3)\n",
    "print(clocker.results_text())"
   ]
  },
  {
   "cell_type": "markdown",
   "metadata": {},
   "source": [
    "## 📘 metatutu.logging"
   ]
  },
  {
   "cell_type": "markdown",
   "metadata": {},
   "source": [
    "### 📄 Multiple output logging"
   ]
  },
  {
   "cell_type": "code",
   "execution_count": null,
   "metadata": {},
   "outputs": [],
   "source": [
    "import random\n",
    "from metatutu.logging import *\n",
    "\n",
    "# initialize console logger\n",
    "console_logger = ConsoleLogger()\n",
    "console_logger.include_timestamp = False\n",
    "\n",
    "# initialize file logger\n",
    "file_logger = FileLogger(r\"d:\\data\\test_project\\test.log\")\n",
    "file_logger.async_mode = True\n",
    "file_logger.auto_flush = True\n",
    "\n",
    "# initialize dated file logger\n",
    "dated_file_logger = DatedFileLogger(r\"d:\\data\\test_project\\logtest\")\n",
    "\n",
    "# initialize aggregator of loggers\n",
    "logger = Loggers()\n",
    "logger.register_logger(console_logger)\n",
    "logger.register_logger(file_logger)\n",
    "logger.register_logger(dated_file_logger)\n",
    "\n",
    "# log test data\n",
    "logger.separator()\n",
    "logger.log(\"This is output of running example code:\")\n",
    "for task_id in range(0, 100):\n",
    "\tlogger.info(\"Start task {0}:\".format(task_id + 1), 1)\n",
    "\t\n",
    "\ttask_desc = \"Task ID: {0}\\r\\n\".format(task_id + 1)\n",
    "\ttask_desc += \"Task Desc: Do something...\"\n",
    "\tlogger.log(task_desc, 2)\n",
    "\n",
    "\ttry:\n",
    "\t\tresult = random.randint(0, 100)\n",
    "\t\tif result < 20:\n",
    "\t\t\tlogger.log(\"General information is being logged.\", 2)\n",
    "\t\telif result < 40:\n",
    "\t\t\tlogger.debug(\"Debug information is being logged.\", 2)\n",
    "\t\telif result < 50:\n",
    "\t\t\tlogger.info(\"Some program information is being logged.\", 2)\n",
    "\t\telif result < 60:\n",
    "\t\t\tlogger.warning(\"Warning information is being logged.\", 2)\n",
    "\t\telif result < 80:\n",
    "\t\t\tlogger.error(\"Error is being logged.\", 2)\n",
    "\t\telif result < 90:\n",
    "\t\t\tlogger.critical(\"Critical error is being logged.\", 2)\n",
    "\t\telse:\n",
    "\t\t\ttemp = 1 / 0\n",
    "\texcept Exception as ex:\n",
    "\t\tlogger.exception(ex, depth=2)\n",
    "\n",
    "\tlogger.info(\"End task {0}:\".format(task_id + 1), 1)\n",
    "\n",
    "# close loggers\n",
    "logger.close()"
   ]
  },
  {
   "cell_type": "markdown",
   "metadata": {},
   "source": [
    "## 📘 metatutu.fsds"
   ]
  },
  {
   "cell_type": "markdown",
   "metadata": {},
   "source": [
    "### 📄 Project workspace"
   ]
  },
  {
   "cell_type": "code",
   "execution_count": null,
   "metadata": {},
   "outputs": [],
   "source": [
    "import datetime\n",
    "from metatutu.fsds import *\n",
    "\n",
    "def test_fsds_project_workspace():\n",
    "\tfsds = FileSystemDataStore(r\"d:\\data\\test_project\")\n",
    "\n",
    "\tprint(fsds.get_path(\"common.csv\"))\n",
    "\tprint(fsds.get_path(r\"release\\version.txt\"))\n",
    "\tprint(fsds.get_dated_path(\"source.csv\"))\n",
    "\tprint(fsds.get_dated_path(\"source.csv\", \"2022-03-11\"))\n",
    "\tprint(fsds.get_dated_path(\"source.csv\", datetime.datetime(2021, 12, 31)))\n",
    "\n",
    "test_fsds_project_workspace()"
   ]
  },
  {
   "cell_type": "markdown",
   "metadata": {},
   "source": [
    "### 📄 List files"
   ]
  },
  {
   "cell_type": "code",
   "execution_count": null,
   "metadata": {},
   "outputs": [],
   "source": [
    "from metatutu.fsds import *\n",
    "\n",
    "def test_fsds_list_files():\n",
    "    fsds = FileSystemDataStore(r\"d:\\data\\test_project\")\n",
    "\n",
    "    folderpath = fsds.get_parent_path(\"any\")  # root path\n",
    "    print(folderpath)\n",
    "    print(fsds.list_files(folderpath))\n",
    "    print(fsds.list_files(folderpath, filters=[\".jpg\"]))\n",
    "    \n",
    "test_fsds_list_files()"
   ]
  },
  {
   "cell_type": "markdown",
   "metadata": {},
   "source": [
    "### 📄 Text file I/O & Temp file/folder"
   ]
  },
  {
   "cell_type": "code",
   "execution_count": null,
   "metadata": {},
   "outputs": [],
   "source": [
    "import datetime\n",
    "import os\n",
    "import time\n",
    "from metatutu.fsds import *\n",
    "\n",
    "def test_fsds_text_file():\n",
    "\tfsds = FileSystemDataStore(r\"d:\\data\\test_project\")\n",
    "\n",
    "\ttmp = fsds.create_temp_file()\n",
    "\tfilepath = tmp.path\n",
    "\tfsds.save_file_contents(filepath, \"Hello World!\")\n",
    "\tcontents = fsds.load_file_contents(filepath)\n",
    "\tif contents:\n",
    "\t\tprint(contents)\n",
    "\telse:\n",
    "\t\tprint(\"Failed!\")\n",
    "\n",
    "\ttmp2 = fsds.create_temp_folder()\n",
    "\tfilepath = os.path.join(tmp2.path, \"greetings.txt\")\n",
    "\tfsds.save_file_contents(filepath, \"How are you?\")\n",
    "\tcontents = fsds.load_file_contents(filepath)\n",
    "\tif contents:\n",
    "\t\tprint(contents)\n",
    "\telse:\n",
    "\t\tprint(\"Failed!\")\n",
    "\n",
    "\ttime.sleep(10)  # give chance to check file system before temp file/folder deleted\n",
    "\n",
    "test_fsds_text_file()"
   ]
  },
  {
   "cell_type": "markdown",
   "metadata": {},
   "source": [
    "## 📘 metatutu.images"
   ]
  },
  {
   "cell_type": "markdown",
   "metadata": {},
   "source": [
    "### 📄 Stitch images"
   ]
  },
  {
   "cell_type": "code",
   "execution_count": null,
   "metadata": {},
   "outputs": [],
   "source": [
    "from PIL import Image\n",
    "from metatutu.fsds import *\n",
    "from metatutu.images import *\n",
    "\n",
    "def test_images_stitch_images():\n",
    "\tfsds = FileSystemDataStore(r\"d:\\data\\test_project\")\n",
    "\n",
    "\tfilepaths = []\n",
    "\tfor i in range(0, 5):\n",
    "\t\tfilepath = fsds.get_path(\"{}.png\".format(i + 1))\n",
    "\t\tfilepaths.append(filepath)\n",
    "\t\timage = Image.new(\"RGBA\", (640, 480), (i * 30, i * 30, i * 30, 255))\n",
    "\t\timage.save(filepath)\n",
    "\n",
    "\timages = Images()\n",
    "\timages.append_files(filepaths)\n",
    "\n",
    "\tfilepath = fsds.get_path(\"stitched-y.png\")\n",
    "\timages.stitch(True).save(filepath)\n",
    "\tprint(filepath)\n",
    "\n",
    "\tfilepath = fsds.get_path(\"stitched-x.png\")\n",
    "\timages.stitch(False).save(filepath)\n",
    "\tprint(filepath)\n",
    "    \n",
    "test_images_stitch_images()"
   ]
  },
  {
   "cell_type": "markdown",
   "metadata": {},
   "source": [
    "### 📄 Create GIF"
   ]
  },
  {
   "cell_type": "code",
   "execution_count": null,
   "metadata": {},
   "outputs": [],
   "source": [
    "from metatutu.fsds import *\n",
    "from metatutu.images import *\n",
    "\n",
    "def test_images_create_gif():\n",
    "\tfsds = FileSystemDataStore(r\"d:\\data\\test_project\")\n",
    "\n",
    "\tfilepaths = []\n",
    "\tfor i in range(0, 5):\n",
    "\t\tfilepaths.append(fsds.get_path(\"{}.png\".format(i + 1)))\n",
    "\n",
    "\timages = Images()\n",
    "\timages.append_files(filepaths)\n",
    "\n",
    "\tfilepath = fsds.get_path(\"test.gif\")\n",
    "\timages.create_gif(filepath, 0.5)\n",
    "\tprint(filepath)\n",
    "    \n",
    "test_images_create_gif()"
   ]
  },
  {
   "cell_type": "markdown",
   "metadata": {},
   "source": [
    "## 📘 metatutu.pipeline"
   ]
  },
  {
   "cell_type": "markdown",
   "metadata": {},
   "source": [
    "### 📄 Individual"
   ]
  },
  {
   "cell_type": "code",
   "execution_count": null,
   "metadata": {},
   "outputs": [],
   "source": [
    "import time\n",
    "from metatutu.pipeline import *\n",
    "from metatutu.debugging import Clocker\n",
    "\n",
    "class TestDoer(Doer):\n",
    "\tdef __init__(self, maxsize):\n",
    "\t\tDoer.__init__(self, maxsize)\n",
    "\n",
    "\tdef _start_working(self):\n",
    "\t\tprint(\"doer: start working\")\n",
    "\n",
    "\tdef _stop_working(self):\n",
    "\t\tprint(\"doer: stop working\")\n",
    "\n",
    "\tdef _process_task(self, task):\n",
    "\t\tprint(\"doer ({0}): start task {1}\".format(self.id, task[\"id\"]))\n",
    "\t\ttime.sleep(0.2)\t# simulate the length of process time\n",
    "\t\tprint(\"doer ({0}): end task {1}\".format(self.id, task[\"id\"]))\n",
    "\n",
    "clocker = Clocker()\n",
    "\n",
    "# hire doer\n",
    "clocker.reset()\n",
    "doer = TestDoer(0)\n",
    "doer.hire()\n",
    "clocker.record(\"hire\")\n",
    "\n",
    "# feed tasks\n",
    "for i in range(0, 10):\n",
    "\tdoer.task_queue.push_task({\"id\": str(i + 1)})\n",
    "doer.task_queue.push_task({\"id\": \"p50\"}, 50)\n",
    "doer.task_queue.push_task({\"id\": \"p10\"}, 10)\n",
    "doer.task_queue.push_task({\"id\": \"p20\"}, 20)\n",
    "doer.task_queue.push_task({\"id\": \"p200\"}, 200)\n",
    "clocker.record(\"push\")\n",
    "\n",
    "# wait and dismiss doer\n",
    "doer.dismiss()\n",
    "clocker.record(\"wait & dismiss\")\n",
    "\n",
    "# show result\n",
    "print(clocker.results_text())"
   ]
  },
  {
   "cell_type": "markdown",
   "metadata": {},
   "source": [
    "### 📄 Team"
   ]
  },
  {
   "cell_type": "code",
   "execution_count": null,
   "metadata": {},
   "outputs": [],
   "source": [
    "import random\n",
    "from metatutu.pipeline import *\n",
    "from metatutu.debugging import *\n",
    "\n",
    "class TestOperator(Operator):\n",
    "\tdef __init__(self):\n",
    "\t\tOperator.__init__(self)\n",
    "\t\tself.team = None\n",
    "\t\tself.task_queue = None\n",
    "\t\tself.logger = None\n",
    "\n",
    "\tdef _start_working(self):\n",
    "\t\tprint(\"operator ({0}): start working\".format(self.id))\n",
    "\n",
    "\tdef _stop_working(self):\n",
    "\t\tprint(\"operator ({0}): stop working\".format(self.id))\n",
    "\n",
    "\tdef _process_task(self, task):\n",
    "\t\tprint(\"operator ({0}): start task {1}\".format(self.id, task[\"id\"]))\n",
    "\t\ttime.sleep(random.randint(1, 5) / 10)\t# simulate the length of process time\n",
    "\t\tprint(\"operator ({0}): end task {1}\".format(self.id, task[\"id\"]))\n",
    "\n",
    "\tdef _pop_task(self):\n",
    "\t\tif self.task_queue is None: return None\n",
    "\t\treturn self.task_queue.pop_task()\n",
    "\n",
    "\tdef bind(self, data):\n",
    "\t\tself.team = data\n",
    "\t\tself.task_queue = data.task_queue\n",
    "\n",
    "class TestManager(Controller):\n",
    "\tdef __init__(self):\n",
    "\t\tController.__init__(self)\n",
    "\t\tself.team = None\n",
    "\n",
    "\tdef _process(self):\n",
    "\t\twhile True:\n",
    "\t\t\t# check stop request\n",
    "\t\t\tif self._dismissNotice.is_set(): break\n",
    "\n",
    "\t\t\t# get task queue status\n",
    "\t\t\tstatus = self.team.task_queue.get_status()\n",
    "\t\t\tqueue_count = status[\"count\"]\n",
    "\t\t\tmsg = \"task queue\\r\\n\"\n",
    "\t\t\tmsg += \"  total count: {0}\\r\\n\".format(status[\"total_count\"])\n",
    "\t\t\tmsg += \"  peak count: {0}\\r\\n\".format(status[\"peak_count\"])\n",
    "\t\t\tmsg += \"  count: {0}\\r\\n\".format(queue_count)\n",
    "\n",
    "\t\t\t# get workers status\n",
    "\t\t\tstatus = self.team.operators.get_status()\n",
    "\t\t\toperator_count = status[\"count\"]\n",
    "\t\t\toperator_idle_count = status[\"idle_count\"]\n",
    "\t\t\toperator_idle_rate = status[\"idle_rate\"]\n",
    "\t\t\tmsg += \"operators\\r\\n\"\n",
    "\t\t\tmsg += \"  total count: {0}\\r\\n\".format(status[\"total_count\"])\n",
    "\t\t\tmsg += \"  peak count: {0}\\r\\n\".format(status[\"peak_count\"])\n",
    "\t\t\tmsg += \"  count: {0}\\r\\n\".format(operator_count)\n",
    "\t\t\tmsg += \"  idle count: {0}\\r\\n\".format(operator_idle_count)\n",
    "\t\t\tmsg += \"  idle rate: {0:.1f}%\".format(operator_idle_rate * 100)\n",
    "\t\t\tprint(msg)\n",
    "\n",
    "\t\t\t# adjust operators\n",
    "\t\t\tif operator_idle_rate > 0.8:\n",
    "\t\t\t\tif operator_idle_count > queue_count and operator_count > 1:\n",
    "\t\t\t\t\tself.team.dismiss_operator(1)\n",
    "\t\t\t\t\tprint(\"manager: dismissed an operator\")\n",
    "\t\t\tif operator_idle_rate < 0.2:\n",
    "\t\t\t\tif operator_idle_count < queue_count and operator_count < 50: \n",
    "\t\t\t\t\tself.team.hire_operator(1)\n",
    "\t\t\t\t\tprint(\"manager: hired an operator\")\n",
    "\n",
    "\t\t\t# sleep\n",
    "\t\t\ttime.sleep(0.1)\n",
    "\n",
    "class TestTeam(Team):\n",
    "\tdef __init__(self):\n",
    "\t\tTeam.__init__(self)\n",
    "\t\tself.operator_class = TestOperator\n",
    "\t\tself.manager = None\n",
    "\n",
    "\tdef __del__(self):\n",
    "\t\tTeam.__del__(self)\n",
    "\t\n",
    "\tdef hire(self):\n",
    "\t\t# create task queue\n",
    "\t\tself.task_queue = TaskQueue(0)\n",
    "\n",
    "\t\t# hire manager\n",
    "\t\tself.manager = TestManager()\n",
    "\t\tself.manager.team = self\n",
    "\t\tself.manager.hire()\n",
    "\n",
    "\t\t# hire initial operators\n",
    "\t\tself.hire_operator(1)\n",
    "\n",
    "\tdef dismiss(self):\n",
    "\t\t# finish all tasks\n",
    "\t\tself.finish_all_tasks()\n",
    "\n",
    "\t\t# dismiss operators\n",
    "\t\tself.operators.dismiss_all()\n",
    "\n",
    "\t\t# dismiss manager\n",
    "\t\tself.manager.dismiss()\n",
    "\t\tdel self.manager\n",
    "\t\tself.manager = None\n",
    "\n",
    "clocker = Clocker()\n",
    "\n",
    "# hire team\n",
    "clocker.reset()\n",
    "team = TestTeam()\n",
    "team.hire()\n",
    "clocker.record(\"hire\")\n",
    "\n",
    "# feed tasks\n",
    "for i in range(0, 10):\n",
    "\tteam.task_queue.push_task({\"id\": str(i + 1)})\n",
    "team.task_queue.push_task({\"id\": \"p50\"}, 50)\n",
    "team.task_queue.push_task({\"id\": \"p10\"}, 10)\n",
    "team.task_queue.push_task({\"id\": \"p20\"}, 20)\n",
    "team.task_queue.push_task({\"id\": \"p200\"}, 200)\n",
    "clocker.record(\"push\")\n",
    "\n",
    "# wait and dismiss team\n",
    "team.dismiss()\n",
    "clocker.record(\"wait & dismiss\")\n",
    "\n",
    "# show result\n",
    "print(clocker.results_text())"
   ]
  }
 ],
 "metadata": {
  "kernelspec": {
   "display_name": "Python 3.9.12 ('base')",
   "language": "python",
   "name": "python3"
  },
  "language_info": {
   "codemirror_mode": {
    "name": "ipython",
    "version": 3
   },
   "file_extension": ".py",
   "mimetype": "text/x-python",
   "name": "python",
   "nbconvert_exporter": "python",
   "pygments_lexer": "ipython3",
   "version": "3.9.12"
  },
  "orig_nbformat": 4,
  "vscode": {
   "interpreter": {
    "hash": "e0de548ffb181fe2a01b2ed5f402e6bb6e6ccf2641efffae0817d36d41e1e10e"
   }
  }
 },
 "nbformat": 4,
 "nbformat_minor": 2
}
